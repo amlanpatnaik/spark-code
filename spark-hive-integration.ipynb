{
 "cells": [
  {
   "cell_type": "code",
   "execution_count": 2,
   "metadata": {
    "collapsed": true
   },
   "outputs": [],
   "source": [
    "from pyspark.sql import SparkSession"
   ]
  },
  {
   "cell_type": "code",
   "execution_count": 4,
   "metadata": {},
   "outputs": [],
   "source": [
    "spark = SparkSession.builder.appName(\"Spark Hive Int\").config(\"spark.some.config.option\",\"some-value\").enableHiveSupport().getOrCreate()"
   ]
  },
  {
   "cell_type": "code",
   "execution_count": 18,
   "metadata": {},
   "outputs": [
    {
     "data": {
      "text/plain": [
       "DataFrame[]"
      ]
     },
     "execution_count": 18,
     "metadata": {},
     "output_type": "execute_result"
    }
   ],
   "source": [
    "spark.sql(\"create table if not exists aj.saleshive (custid string,orderid string,orderdate string,shipdate string,shipclass string,profit float, tax float, total float) row format delimited fields terminated by ','\")"
   ]
  },
  {
   "cell_type": "code",
   "execution_count": 19,
   "metadata": {},
   "outputs": [
    {
     "data": {
      "text/plain": [
       "DataFrame[]"
      ]
     },
     "execution_count": 19,
     "metadata": {},
     "output_type": "execute_result"
    }
   ],
   "source": [
    "spark.sql(\"LOAD DATA INPATH 'hdfs://nameservice1/user/edureka_252252/edureka_252252/sales.csv' INTO TABLE aj.saleshive\")"
   ]
  },
  {
   "cell_type": "code",
   "execution_count": 20,
   "metadata": {},
   "outputs": [
    {
     "name": "stdout",
     "output_type": "stream",
     "text": [
      "+------+--------------+-------------------+-------------------+--------------+------+---+------+\n",
      "|custid|       orderid|          orderdate|           shipdate|     shipclass|profit|tax| total|\n",
      "+------+--------------+-------------------+-------------------+--------------+------+---+------+\n",
      "|     1|CA-2011-100006|2013-09-07 00:00:00|2013-09-13 00:00:00|Standard Class|109.61|3.0|377.97|\n",
      "|     2|CA-2011-100090|2013-07-08 00:00:00|2013-07-12 00:00:00|Standard Class|-19.09|9.0|699.19|\n",
      "|     3|CA-2011-100293|2013-03-14 00:00:00|2013-03-18 00:00:00|Standard Class| 31.87|6.0| 91.06|\n",
      "|     4|CA-2011-100328|2013-01-28 00:00:00|2013-02-03 00:00:00|Standard Class|  1.33|1.0|  3.93|\n",
      "|     5|CA-2011-100363|2013-04-08 00:00:00|2013-04-15 00:00:00|Standard Class|  7.72|5.0| 21.38|\n",
      "+------+--------------+-------------------+-------------------+--------------+------+---+------+\n",
      "\n"
     ]
    }
   ],
   "source": [
    "spark.sql(\"SELECT * from aj.saleshive limit 5\").show()"
   ]
  },
  {
   "cell_type": "code",
   "execution_count": 22,
   "metadata": {},
   "outputs": [],
   "source": [
    "df = spark.sql(\"SELECT orderid,shipdate,shipclass from aj.saleshive limit 5\")"
   ]
  },
  {
   "cell_type": "code",
   "execution_count": 23,
   "metadata": {
    "collapsed": true
   },
   "outputs": [],
   "source": [
    "df.write.saveAsTable(\"aj.shippinginfo\")"
   ]
  },
  {
   "cell_type": "code",
   "execution_count": 29,
   "metadata": {},
   "outputs": [],
   "source": [
    "df.write.parquet(\"shippinginfoPARQUET1\")"
   ]
  },
  {
   "cell_type": "code",
   "execution_count": 33,
   "metadata": {},
   "outputs": [],
   "source": [
    "df.write.orc(\"shippinginfoORC1\")"
   ]
  },
  {
   "cell_type": "code",
   "execution_count": null,
   "metadata": {
    "collapsed": true
   },
   "outputs": [],
   "source": []
  }
 ],
 "metadata": {
  "kernelspec": {
   "display_name": "PySpark",
   "language": "python",
   "name": "pyspark"
  },
  "language_info": {
   "codemirror_mode": {
    "name": "ipython",
    "version": 2
   },
   "file_extension": ".py",
   "mimetype": "text/x-python",
   "name": "python",
   "nbconvert_exporter": "python",
   "pygments_lexer": "ipython2",
   "version": "2.7.14"
  }
 },
 "nbformat": 4,
 "nbformat_minor": 2
}
